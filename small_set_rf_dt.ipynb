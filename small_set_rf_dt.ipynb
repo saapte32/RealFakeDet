{
 "cells": [
  {
   "cell_type": "code",
   "execution_count": 1,
   "id": "2ea05264",
   "metadata": {},
   "outputs": [],
   "source": [
    "import pandas as pd\n",
    "import numpy as np\n",
    "import seaborn as sns\n",
    "import matplotlib.pyplot as plt\n",
    "from sklearn.model_selection import train_test_split\n",
    "from sklearn.metrics import confusion_matrix,accuracy_score,classification_report,roc_auc_score, roc_curve\n",
    "from sklearn.tree import DecisionTreeClassifier\n",
    "from sklearn.ensemble import RandomForestClassifier\n",
    "import pickle"
   ]
  },
  {
   "cell_type": "code",
   "execution_count": 2,
   "id": "0bfa0c34",
   "metadata": {},
   "outputs": [],
   "source": [
    "instagramveri=pd.read_csv('final-v1.csv')"
   ]
  },
  {
   "cell_type": "code",
   "execution_count": 3,
   "id": "2358e601",
   "metadata": {},
   "outputs": [
    {
     "data": {
      "text/html": [
       "<div>\n",
       "<style scoped>\n",
       "    .dataframe tbody tr th:only-of-type {\n",
       "        vertical-align: middle;\n",
       "    }\n",
       "\n",
       "    .dataframe tbody tr th {\n",
       "        vertical-align: top;\n",
       "    }\n",
       "\n",
       "    .dataframe thead th {\n",
       "        text-align: right;\n",
       "    }\n",
       "</style>\n",
       "<table border=\"1\" class=\"dataframe\">\n",
       "  <thead>\n",
       "    <tr style=\"text-align: right;\">\n",
       "      <th></th>\n",
       "      <th>edge_followed_by</th>\n",
       "      <th>edge_follow</th>\n",
       "      <th>username_length</th>\n",
       "      <th>username_has_number</th>\n",
       "      <th>full_name_has_number</th>\n",
       "      <th>full_name_length</th>\n",
       "      <th>is_private</th>\n",
       "      <th>is_joined_recently</th>\n",
       "      <th>has_channel</th>\n",
       "      <th>is_business_account</th>\n",
       "      <th>has_guides</th>\n",
       "      <th>has_external_url</th>\n",
       "      <th>is_fake</th>\n",
       "    </tr>\n",
       "  </thead>\n",
       "  <tbody>\n",
       "    <tr>\n",
       "      <th>0</th>\n",
       "      <td>0.001</td>\n",
       "      <td>0.257</td>\n",
       "      <td>13</td>\n",
       "      <td>1</td>\n",
       "      <td>1</td>\n",
       "      <td>13</td>\n",
       "      <td>0</td>\n",
       "      <td>0</td>\n",
       "      <td>0</td>\n",
       "      <td>0</td>\n",
       "      <td>0</td>\n",
       "      <td>0</td>\n",
       "      <td>1</td>\n",
       "    </tr>\n",
       "    <tr>\n",
       "      <th>1</th>\n",
       "      <td>0.000</td>\n",
       "      <td>0.958</td>\n",
       "      <td>9</td>\n",
       "      <td>1</td>\n",
       "      <td>0</td>\n",
       "      <td>0</td>\n",
       "      <td>0</td>\n",
       "      <td>1</td>\n",
       "      <td>0</td>\n",
       "      <td>0</td>\n",
       "      <td>0</td>\n",
       "      <td>0</td>\n",
       "      <td>1</td>\n",
       "    </tr>\n",
       "    <tr>\n",
       "      <th>2</th>\n",
       "      <td>0.000</td>\n",
       "      <td>0.253</td>\n",
       "      <td>12</td>\n",
       "      <td>0</td>\n",
       "      <td>0</td>\n",
       "      <td>0</td>\n",
       "      <td>0</td>\n",
       "      <td>0</td>\n",
       "      <td>0</td>\n",
       "      <td>0</td>\n",
       "      <td>0</td>\n",
       "      <td>0</td>\n",
       "      <td>1</td>\n",
       "    </tr>\n",
       "    <tr>\n",
       "      <th>3</th>\n",
       "      <td>0.000</td>\n",
       "      <td>0.977</td>\n",
       "      <td>10</td>\n",
       "      <td>1</td>\n",
       "      <td>0</td>\n",
       "      <td>0</td>\n",
       "      <td>0</td>\n",
       "      <td>0</td>\n",
       "      <td>0</td>\n",
       "      <td>0</td>\n",
       "      <td>0</td>\n",
       "      <td>0</td>\n",
       "      <td>1</td>\n",
       "    </tr>\n",
       "    <tr>\n",
       "      <th>4</th>\n",
       "      <td>0.000</td>\n",
       "      <td>0.321</td>\n",
       "      <td>11</td>\n",
       "      <td>0</td>\n",
       "      <td>0</td>\n",
       "      <td>11</td>\n",
       "      <td>1</td>\n",
       "      <td>0</td>\n",
       "      <td>0</td>\n",
       "      <td>0</td>\n",
       "      <td>0</td>\n",
       "      <td>0</td>\n",
       "      <td>1</td>\n",
       "    </tr>\n",
       "  </tbody>\n",
       "</table>\n",
       "</div>"
      ],
      "text/plain": [
       "   edge_followed_by  edge_follow  username_length  username_has_number  \\\n",
       "0             0.001        0.257               13                    1   \n",
       "1             0.000        0.958                9                    1   \n",
       "2             0.000        0.253               12                    0   \n",
       "3             0.000        0.977               10                    1   \n",
       "4             0.000        0.321               11                    0   \n",
       "\n",
       "   full_name_has_number  full_name_length  is_private  is_joined_recently  \\\n",
       "0                     1                13           0                   0   \n",
       "1                     0                 0           0                   1   \n",
       "2                     0                 0           0                   0   \n",
       "3                     0                 0           0                   0   \n",
       "4                     0                11           1                   0   \n",
       "\n",
       "   has_channel  is_business_account  has_guides  has_external_url  is_fake  \n",
       "0            0                    0           0                 0        1  \n",
       "1            0                    0           0                 0        1  \n",
       "2            0                    0           0                 0        1  \n",
       "3            0                    0           0                 0        1  \n",
       "4            0                    0           0                 0        1  "
      ]
     },
     "execution_count": 3,
     "metadata": {},
     "output_type": "execute_result"
    }
   ],
   "source": [
    "instagramveri.head()"
   ]
  },
  {
   "cell_type": "code",
   "execution_count": 4,
   "id": "3a77acdf",
   "metadata": {},
   "outputs": [
    {
     "data": {
      "text/html": [
       "<div>\n",
       "<style scoped>\n",
       "    .dataframe tbody tr th:only-of-type {\n",
       "        vertical-align: middle;\n",
       "    }\n",
       "\n",
       "    .dataframe tbody tr th {\n",
       "        vertical-align: top;\n",
       "    }\n",
       "\n",
       "    .dataframe thead th {\n",
       "        text-align: right;\n",
       "    }\n",
       "</style>\n",
       "<table border=\"1\" class=\"dataframe\">\n",
       "  <thead>\n",
       "    <tr style=\"text-align: right;\">\n",
       "      <th></th>\n",
       "      <th>edge_followed_by</th>\n",
       "      <th>edge_follow</th>\n",
       "      <th>username_length</th>\n",
       "      <th>username_has_number</th>\n",
       "      <th>full_name_has_number</th>\n",
       "      <th>full_name_length</th>\n",
       "      <th>is_private</th>\n",
       "      <th>is_joined_recently</th>\n",
       "      <th>has_channel</th>\n",
       "      <th>is_business_account</th>\n",
       "      <th>has_guides</th>\n",
       "      <th>has_external_url</th>\n",
       "      <th>is_fake</th>\n",
       "    </tr>\n",
       "  </thead>\n",
       "  <tbody>\n",
       "    <tr>\n",
       "      <th>780</th>\n",
       "      <td>0.0</td>\n",
       "      <td>0.020</td>\n",
       "      <td>9</td>\n",
       "      <td>0</td>\n",
       "      <td>0</td>\n",
       "      <td>14</td>\n",
       "      <td>1</td>\n",
       "      <td>0</td>\n",
       "      <td>0</td>\n",
       "      <td>0</td>\n",
       "      <td>0</td>\n",
       "      <td>0</td>\n",
       "      <td>0</td>\n",
       "    </tr>\n",
       "    <tr>\n",
       "      <th>781</th>\n",
       "      <td>0.0</td>\n",
       "      <td>0.081</td>\n",
       "      <td>18</td>\n",
       "      <td>1</td>\n",
       "      <td>0</td>\n",
       "      <td>15</td>\n",
       "      <td>1</td>\n",
       "      <td>0</td>\n",
       "      <td>0</td>\n",
       "      <td>0</td>\n",
       "      <td>0</td>\n",
       "      <td>0</td>\n",
       "      <td>0</td>\n",
       "    </tr>\n",
       "    <tr>\n",
       "      <th>782</th>\n",
       "      <td>0.0</td>\n",
       "      <td>0.115</td>\n",
       "      <td>9</td>\n",
       "      <td>0</td>\n",
       "      <td>0</td>\n",
       "      <td>8</td>\n",
       "      <td>1</td>\n",
       "      <td>0</td>\n",
       "      <td>0</td>\n",
       "      <td>0</td>\n",
       "      <td>0</td>\n",
       "      <td>0</td>\n",
       "      <td>0</td>\n",
       "    </tr>\n",
       "    <tr>\n",
       "      <th>783</th>\n",
       "      <td>0.0</td>\n",
       "      <td>0.049</td>\n",
       "      <td>12</td>\n",
       "      <td>0</td>\n",
       "      <td>0</td>\n",
       "      <td>28</td>\n",
       "      <td>1</td>\n",
       "      <td>0</td>\n",
       "      <td>0</td>\n",
       "      <td>0</td>\n",
       "      <td>0</td>\n",
       "      <td>0</td>\n",
       "      <td>0</td>\n",
       "    </tr>\n",
       "    <tr>\n",
       "      <th>784</th>\n",
       "      <td>0.0</td>\n",
       "      <td>0.096</td>\n",
       "      <td>11</td>\n",
       "      <td>0</td>\n",
       "      <td>0</td>\n",
       "      <td>0</td>\n",
       "      <td>1</td>\n",
       "      <td>0</td>\n",
       "      <td>0</td>\n",
       "      <td>0</td>\n",
       "      <td>0</td>\n",
       "      <td>0</td>\n",
       "      <td>0</td>\n",
       "    </tr>\n",
       "  </tbody>\n",
       "</table>\n",
       "</div>"
      ],
      "text/plain": [
       "     edge_followed_by  edge_follow  username_length  username_has_number  \\\n",
       "780               0.0        0.020                9                    0   \n",
       "781               0.0        0.081               18                    1   \n",
       "782               0.0        0.115                9                    0   \n",
       "783               0.0        0.049               12                    0   \n",
       "784               0.0        0.096               11                    0   \n",
       "\n",
       "     full_name_has_number  full_name_length  is_private  is_joined_recently  \\\n",
       "780                     0                14           1                   0   \n",
       "781                     0                15           1                   0   \n",
       "782                     0                 8           1                   0   \n",
       "783                     0                28           1                   0   \n",
       "784                     0                 0           1                   0   \n",
       "\n",
       "     has_channel  is_business_account  has_guides  has_external_url  is_fake  \n",
       "780            0                    0           0                 0        0  \n",
       "781            0                    0           0                 0        0  \n",
       "782            0                    0           0                 0        0  \n",
       "783            0                    0           0                 0        0  \n",
       "784            0                    0           0                 0        0  "
      ]
     },
     "execution_count": 4,
     "metadata": {},
     "output_type": "execute_result"
    }
   ],
   "source": [
    "instagramveri.tail()"
   ]
  },
  {
   "cell_type": "code",
   "execution_count": 5,
   "id": "2b8b8144",
   "metadata": {},
   "outputs": [
    {
     "data": {
      "text/plain": [
       "(785, 13)"
      ]
     },
     "execution_count": 5,
     "metadata": {},
     "output_type": "execute_result"
    }
   ],
   "source": [
    "instagramveri.shape"
   ]
  },
  {
   "cell_type": "code",
   "execution_count": 6,
   "id": "dd65fd0e",
   "metadata": {},
   "outputs": [
    {
     "data": {
      "text/plain": [
       "Index(['edge_followed_by', 'edge_follow', 'username_length',\n",
       "       'username_has_number', 'full_name_has_number', 'full_name_length',\n",
       "       'is_private', 'is_joined_recently', 'has_channel',\n",
       "       'is_business_account', 'has_guides', 'has_external_url', 'is_fake'],\n",
       "      dtype='object')"
      ]
     },
     "execution_count": 6,
     "metadata": {},
     "output_type": "execute_result"
    }
   ],
   "source": [
    "instagramveri.columns"
   ]
  },
  {
   "cell_type": "code",
   "execution_count": 7,
   "id": "6eab087f",
   "metadata": {},
   "outputs": [
    {
     "name": "stdout",
     "output_type": "stream",
     "text": [
      "<class 'pandas.core.frame.DataFrame'>\n",
      "RangeIndex: 785 entries, 0 to 784\n",
      "Data columns (total 13 columns):\n",
      " #   Column                Non-Null Count  Dtype  \n",
      "---  ------                --------------  -----  \n",
      " 0   edge_followed_by      785 non-null    float64\n",
      " 1   edge_follow           785 non-null    float64\n",
      " 2   username_length       785 non-null    int64  \n",
      " 3   username_has_number   785 non-null    int64  \n",
      " 4   full_name_has_number  785 non-null    int64  \n",
      " 5   full_name_length      785 non-null    int64  \n",
      " 6   is_private            785 non-null    int64  \n",
      " 7   is_joined_recently    785 non-null    int64  \n",
      " 8   has_channel           785 non-null    int64  \n",
      " 9   is_business_account   785 non-null    int64  \n",
      " 10  has_guides            785 non-null    int64  \n",
      " 11  has_external_url      785 non-null    int64  \n",
      " 12  is_fake               785 non-null    int64  \n",
      "dtypes: float64(2), int64(11)\n",
      "memory usage: 79.9 KB\n"
     ]
    }
   ],
   "source": [
    "instagramveri.info()"
   ]
  },
  {
   "cell_type": "code",
   "execution_count": 8,
   "id": "dcf8c2a8",
   "metadata": {},
   "outputs": [
    {
     "data": {
      "text/plain": [
       "edge_followed_by        0\n",
       "edge_follow             0\n",
       "username_length         0\n",
       "username_has_number     0\n",
       "full_name_has_number    0\n",
       "full_name_length        0\n",
       "is_private              0\n",
       "is_joined_recently      0\n",
       "has_channel             0\n",
       "is_business_account     0\n",
       "has_guides              0\n",
       "has_external_url        0\n",
       "is_fake                 0\n",
       "dtype: int64"
      ]
     },
     "execution_count": 8,
     "metadata": {},
     "output_type": "execute_result"
    }
   ],
   "source": [
    "instagramveri.isnull().sum()"
   ]
  },
  {
   "cell_type": "code",
   "execution_count": 9,
   "id": "6569aade",
   "metadata": {},
   "outputs": [
    {
     "data": {
      "text/html": [
       "<div>\n",
       "<style scoped>\n",
       "    .dataframe tbody tr th:only-of-type {\n",
       "        vertical-align: middle;\n",
       "    }\n",
       "\n",
       "    .dataframe tbody tr th {\n",
       "        vertical-align: top;\n",
       "    }\n",
       "\n",
       "    .dataframe thead th {\n",
       "        text-align: right;\n",
       "    }\n",
       "</style>\n",
       "<table border=\"1\" class=\"dataframe\">\n",
       "  <thead>\n",
       "    <tr style=\"text-align: right;\">\n",
       "      <th></th>\n",
       "      <th>edge_followed_by</th>\n",
       "      <th>edge_follow</th>\n",
       "      <th>username_length</th>\n",
       "      <th>username_has_number</th>\n",
       "      <th>full_name_has_number</th>\n",
       "      <th>full_name_length</th>\n",
       "      <th>is_private</th>\n",
       "      <th>is_joined_recently</th>\n",
       "      <th>has_channel</th>\n",
       "      <th>is_business_account</th>\n",
       "      <th>has_guides</th>\n",
       "      <th>has_external_url</th>\n",
       "      <th>is_fake</th>\n",
       "    </tr>\n",
       "  </thead>\n",
       "  <tbody>\n",
       "    <tr>\n",
       "      <th>count</th>\n",
       "      <td>785.000000</td>\n",
       "      <td>785.000000</td>\n",
       "      <td>785.000000</td>\n",
       "      <td>785.000000</td>\n",
       "      <td>785.000000</td>\n",
       "      <td>785.000000</td>\n",
       "      <td>785.000000</td>\n",
       "      <td>785.000000</td>\n",
       "      <td>785.0</td>\n",
       "      <td>785.000000</td>\n",
       "      <td>785.000000</td>\n",
       "      <td>785.000000</td>\n",
       "      <td>785.000000</td>\n",
       "    </tr>\n",
       "    <tr>\n",
       "      <th>mean</th>\n",
       "      <td>0.002223</td>\n",
       "      <td>0.401606</td>\n",
       "      <td>11.630573</td>\n",
       "      <td>0.644586</td>\n",
       "      <td>0.109554</td>\n",
       "      <td>6.129936</td>\n",
       "      <td>0.184713</td>\n",
       "      <td>0.361783</td>\n",
       "      <td>0.0</td>\n",
       "      <td>0.073885</td>\n",
       "      <td>0.001274</td>\n",
       "      <td>0.062420</td>\n",
       "      <td>0.881529</td>\n",
       "    </tr>\n",
       "    <tr>\n",
       "      <th>std</th>\n",
       "      <td>0.036105</td>\n",
       "      <td>0.293845</td>\n",
       "      <td>3.284329</td>\n",
       "      <td>0.478944</td>\n",
       "      <td>0.312532</td>\n",
       "      <td>6.943903</td>\n",
       "      <td>0.388312</td>\n",
       "      <td>0.480823</td>\n",
       "      <td>0.0</td>\n",
       "      <td>0.261751</td>\n",
       "      <td>0.035692</td>\n",
       "      <td>0.242072</td>\n",
       "      <td>0.323371</td>\n",
       "    </tr>\n",
       "    <tr>\n",
       "      <th>min</th>\n",
       "      <td>0.000000</td>\n",
       "      <td>0.000000</td>\n",
       "      <td>5.000000</td>\n",
       "      <td>0.000000</td>\n",
       "      <td>0.000000</td>\n",
       "      <td>0.000000</td>\n",
       "      <td>0.000000</td>\n",
       "      <td>0.000000</td>\n",
       "      <td>0.0</td>\n",
       "      <td>0.000000</td>\n",
       "      <td>0.000000</td>\n",
       "      <td>0.000000</td>\n",
       "      <td>0.000000</td>\n",
       "    </tr>\n",
       "    <tr>\n",
       "      <th>25%</th>\n",
       "      <td>0.000000</td>\n",
       "      <td>0.135000</td>\n",
       "      <td>9.000000</td>\n",
       "      <td>0.000000</td>\n",
       "      <td>0.000000</td>\n",
       "      <td>0.000000</td>\n",
       "      <td>0.000000</td>\n",
       "      <td>0.000000</td>\n",
       "      <td>0.0</td>\n",
       "      <td>0.000000</td>\n",
       "      <td>0.000000</td>\n",
       "      <td>0.000000</td>\n",
       "      <td>1.000000</td>\n",
       "    </tr>\n",
       "    <tr>\n",
       "      <th>50%</th>\n",
       "      <td>0.000000</td>\n",
       "      <td>0.336000</td>\n",
       "      <td>11.000000</td>\n",
       "      <td>1.000000</td>\n",
       "      <td>0.000000</td>\n",
       "      <td>5.000000</td>\n",
       "      <td>0.000000</td>\n",
       "      <td>0.000000</td>\n",
       "      <td>0.0</td>\n",
       "      <td>0.000000</td>\n",
       "      <td>0.000000</td>\n",
       "      <td>0.000000</td>\n",
       "      <td>1.000000</td>\n",
       "    </tr>\n",
       "    <tr>\n",
       "      <th>75%</th>\n",
       "      <td>0.000000</td>\n",
       "      <td>0.623000</td>\n",
       "      <td>13.000000</td>\n",
       "      <td>1.000000</td>\n",
       "      <td>0.000000</td>\n",
       "      <td>11.000000</td>\n",
       "      <td>0.000000</td>\n",
       "      <td>1.000000</td>\n",
       "      <td>0.0</td>\n",
       "      <td>0.000000</td>\n",
       "      <td>0.000000</td>\n",
       "      <td>0.000000</td>\n",
       "      <td>1.000000</td>\n",
       "    </tr>\n",
       "    <tr>\n",
       "      <th>max</th>\n",
       "      <td>1.000000</td>\n",
       "      <td>1.000000</td>\n",
       "      <td>26.000000</td>\n",
       "      <td>1.000000</td>\n",
       "      <td>1.000000</td>\n",
       "      <td>30.000000</td>\n",
       "      <td>1.000000</td>\n",
       "      <td>1.000000</td>\n",
       "      <td>0.0</td>\n",
       "      <td>1.000000</td>\n",
       "      <td>1.000000</td>\n",
       "      <td>1.000000</td>\n",
       "      <td>1.000000</td>\n",
       "    </tr>\n",
       "  </tbody>\n",
       "</table>\n",
       "</div>"
      ],
      "text/plain": [
       "       edge_followed_by  edge_follow  username_length  username_has_number  \\\n",
       "count        785.000000   785.000000       785.000000           785.000000   \n",
       "mean           0.002223     0.401606        11.630573             0.644586   \n",
       "std            0.036105     0.293845         3.284329             0.478944   \n",
       "min            0.000000     0.000000         5.000000             0.000000   \n",
       "25%            0.000000     0.135000         9.000000             0.000000   \n",
       "50%            0.000000     0.336000        11.000000             1.000000   \n",
       "75%            0.000000     0.623000        13.000000             1.000000   \n",
       "max            1.000000     1.000000        26.000000             1.000000   \n",
       "\n",
       "       full_name_has_number  full_name_length  is_private  is_joined_recently  \\\n",
       "count            785.000000        785.000000  785.000000          785.000000   \n",
       "mean               0.109554          6.129936    0.184713            0.361783   \n",
       "std                0.312532          6.943903    0.388312            0.480823   \n",
       "min                0.000000          0.000000    0.000000            0.000000   \n",
       "25%                0.000000          0.000000    0.000000            0.000000   \n",
       "50%                0.000000          5.000000    0.000000            0.000000   \n",
       "75%                0.000000         11.000000    0.000000            1.000000   \n",
       "max                1.000000         30.000000    1.000000            1.000000   \n",
       "\n",
       "       has_channel  is_business_account  has_guides  has_external_url  \\\n",
       "count        785.0           785.000000  785.000000        785.000000   \n",
       "mean           0.0             0.073885    0.001274          0.062420   \n",
       "std            0.0             0.261751    0.035692          0.242072   \n",
       "min            0.0             0.000000    0.000000          0.000000   \n",
       "25%            0.0             0.000000    0.000000          0.000000   \n",
       "50%            0.0             0.000000    0.000000          0.000000   \n",
       "75%            0.0             0.000000    0.000000          0.000000   \n",
       "max            0.0             1.000000    1.000000          1.000000   \n",
       "\n",
       "          is_fake  \n",
       "count  785.000000  \n",
       "mean     0.881529  \n",
       "std      0.323371  \n",
       "min      0.000000  \n",
       "25%      1.000000  \n",
       "50%      1.000000  \n",
       "75%      1.000000  \n",
       "max      1.000000  "
      ]
     },
     "execution_count": 9,
     "metadata": {},
     "output_type": "execute_result"
    }
   ],
   "source": [
    "instagramveri.describe()"
   ]
  },
  {
   "cell_type": "code",
   "execution_count": 10,
   "id": "0a6fa8c0",
   "metadata": {},
   "outputs": [
    {
     "data": {
      "text/html": [
       "<div>\n",
       "<style scoped>\n",
       "    .dataframe tbody tr th:only-of-type {\n",
       "        vertical-align: middle;\n",
       "    }\n",
       "\n",
       "    .dataframe tbody tr th {\n",
       "        vertical-align: top;\n",
       "    }\n",
       "\n",
       "    .dataframe thead th {\n",
       "        text-align: right;\n",
       "    }\n",
       "</style>\n",
       "<table border=\"1\" class=\"dataframe\">\n",
       "  <thead>\n",
       "    <tr style=\"text-align: right;\">\n",
       "      <th></th>\n",
       "      <th>count</th>\n",
       "      <th>mean</th>\n",
       "      <th>std</th>\n",
       "      <th>min</th>\n",
       "      <th>25%</th>\n",
       "      <th>50%</th>\n",
       "      <th>75%</th>\n",
       "      <th>max</th>\n",
       "    </tr>\n",
       "  </thead>\n",
       "  <tbody>\n",
       "    <tr>\n",
       "      <th>edge_followed_by</th>\n",
       "      <td>785.0</td>\n",
       "      <td>0.002223</td>\n",
       "      <td>0.036105</td>\n",
       "      <td>0.0</td>\n",
       "      <td>0.000</td>\n",
       "      <td>0.000</td>\n",
       "      <td>0.000</td>\n",
       "      <td>1.0</td>\n",
       "    </tr>\n",
       "    <tr>\n",
       "      <th>edge_follow</th>\n",
       "      <td>785.0</td>\n",
       "      <td>0.401606</td>\n",
       "      <td>0.293845</td>\n",
       "      <td>0.0</td>\n",
       "      <td>0.135</td>\n",
       "      <td>0.336</td>\n",
       "      <td>0.623</td>\n",
       "      <td>1.0</td>\n",
       "    </tr>\n",
       "    <tr>\n",
       "      <th>username_length</th>\n",
       "      <td>785.0</td>\n",
       "      <td>11.630573</td>\n",
       "      <td>3.284329</td>\n",
       "      <td>5.0</td>\n",
       "      <td>9.000</td>\n",
       "      <td>11.000</td>\n",
       "      <td>13.000</td>\n",
       "      <td>26.0</td>\n",
       "    </tr>\n",
       "    <tr>\n",
       "      <th>username_has_number</th>\n",
       "      <td>785.0</td>\n",
       "      <td>0.644586</td>\n",
       "      <td>0.478944</td>\n",
       "      <td>0.0</td>\n",
       "      <td>0.000</td>\n",
       "      <td>1.000</td>\n",
       "      <td>1.000</td>\n",
       "      <td>1.0</td>\n",
       "    </tr>\n",
       "    <tr>\n",
       "      <th>full_name_has_number</th>\n",
       "      <td>785.0</td>\n",
       "      <td>0.109554</td>\n",
       "      <td>0.312532</td>\n",
       "      <td>0.0</td>\n",
       "      <td>0.000</td>\n",
       "      <td>0.000</td>\n",
       "      <td>0.000</td>\n",
       "      <td>1.0</td>\n",
       "    </tr>\n",
       "    <tr>\n",
       "      <th>full_name_length</th>\n",
       "      <td>785.0</td>\n",
       "      <td>6.129936</td>\n",
       "      <td>6.943903</td>\n",
       "      <td>0.0</td>\n",
       "      <td>0.000</td>\n",
       "      <td>5.000</td>\n",
       "      <td>11.000</td>\n",
       "      <td>30.0</td>\n",
       "    </tr>\n",
       "    <tr>\n",
       "      <th>is_private</th>\n",
       "      <td>785.0</td>\n",
       "      <td>0.184713</td>\n",
       "      <td>0.388312</td>\n",
       "      <td>0.0</td>\n",
       "      <td>0.000</td>\n",
       "      <td>0.000</td>\n",
       "      <td>0.000</td>\n",
       "      <td>1.0</td>\n",
       "    </tr>\n",
       "    <tr>\n",
       "      <th>is_joined_recently</th>\n",
       "      <td>785.0</td>\n",
       "      <td>0.361783</td>\n",
       "      <td>0.480823</td>\n",
       "      <td>0.0</td>\n",
       "      <td>0.000</td>\n",
       "      <td>0.000</td>\n",
       "      <td>1.000</td>\n",
       "      <td>1.0</td>\n",
       "    </tr>\n",
       "    <tr>\n",
       "      <th>has_channel</th>\n",
       "      <td>785.0</td>\n",
       "      <td>0.000000</td>\n",
       "      <td>0.000000</td>\n",
       "      <td>0.0</td>\n",
       "      <td>0.000</td>\n",
       "      <td>0.000</td>\n",
       "      <td>0.000</td>\n",
       "      <td>0.0</td>\n",
       "    </tr>\n",
       "    <tr>\n",
       "      <th>is_business_account</th>\n",
       "      <td>785.0</td>\n",
       "      <td>0.073885</td>\n",
       "      <td>0.261751</td>\n",
       "      <td>0.0</td>\n",
       "      <td>0.000</td>\n",
       "      <td>0.000</td>\n",
       "      <td>0.000</td>\n",
       "      <td>1.0</td>\n",
       "    </tr>\n",
       "    <tr>\n",
       "      <th>has_guides</th>\n",
       "      <td>785.0</td>\n",
       "      <td>0.001274</td>\n",
       "      <td>0.035692</td>\n",
       "      <td>0.0</td>\n",
       "      <td>0.000</td>\n",
       "      <td>0.000</td>\n",
       "      <td>0.000</td>\n",
       "      <td>1.0</td>\n",
       "    </tr>\n",
       "    <tr>\n",
       "      <th>has_external_url</th>\n",
       "      <td>785.0</td>\n",
       "      <td>0.062420</td>\n",
       "      <td>0.242072</td>\n",
       "      <td>0.0</td>\n",
       "      <td>0.000</td>\n",
       "      <td>0.000</td>\n",
       "      <td>0.000</td>\n",
       "      <td>1.0</td>\n",
       "    </tr>\n",
       "    <tr>\n",
       "      <th>is_fake</th>\n",
       "      <td>785.0</td>\n",
       "      <td>0.881529</td>\n",
       "      <td>0.323371</td>\n",
       "      <td>0.0</td>\n",
       "      <td>1.000</td>\n",
       "      <td>1.000</td>\n",
       "      <td>1.000</td>\n",
       "      <td>1.0</td>\n",
       "    </tr>\n",
       "  </tbody>\n",
       "</table>\n",
       "</div>"
      ],
      "text/plain": [
       "                      count       mean       std  min    25%     50%     75%  \\\n",
       "edge_followed_by      785.0   0.002223  0.036105  0.0  0.000   0.000   0.000   \n",
       "edge_follow           785.0   0.401606  0.293845  0.0  0.135   0.336   0.623   \n",
       "username_length       785.0  11.630573  3.284329  5.0  9.000  11.000  13.000   \n",
       "username_has_number   785.0   0.644586  0.478944  0.0  0.000   1.000   1.000   \n",
       "full_name_has_number  785.0   0.109554  0.312532  0.0  0.000   0.000   0.000   \n",
       "full_name_length      785.0   6.129936  6.943903  0.0  0.000   5.000  11.000   \n",
       "is_private            785.0   0.184713  0.388312  0.0  0.000   0.000   0.000   \n",
       "is_joined_recently    785.0   0.361783  0.480823  0.0  0.000   0.000   1.000   \n",
       "has_channel           785.0   0.000000  0.000000  0.0  0.000   0.000   0.000   \n",
       "is_business_account   785.0   0.073885  0.261751  0.0  0.000   0.000   0.000   \n",
       "has_guides            785.0   0.001274  0.035692  0.0  0.000   0.000   0.000   \n",
       "has_external_url      785.0   0.062420  0.242072  0.0  0.000   0.000   0.000   \n",
       "is_fake               785.0   0.881529  0.323371  0.0  1.000   1.000   1.000   \n",
       "\n",
       "                       max  \n",
       "edge_followed_by       1.0  \n",
       "edge_follow            1.0  \n",
       "username_length       26.0  \n",
       "username_has_number    1.0  \n",
       "full_name_has_number   1.0  \n",
       "full_name_length      30.0  \n",
       "is_private             1.0  \n",
       "is_joined_recently     1.0  \n",
       "has_channel            0.0  \n",
       "is_business_account    1.0  \n",
       "has_guides             1.0  \n",
       "has_external_url       1.0  \n",
       "is_fake                1.0  "
      ]
     },
     "execution_count": 10,
     "metadata": {},
     "output_type": "execute_result"
    }
   ],
   "source": [
    "instagramveri.describe().T"
   ]
  },
  {
   "cell_type": "code",
   "execution_count": 11,
   "id": "e6b88302",
   "metadata": {},
   "outputs": [],
   "source": [
    "instagramveri=instagramveri.drop(['has_channel'], axis=1)\n",
    "instagramveri=instagramveri.drop(['has_guides'], axis=1)"
   ]
  },
  {
   "cell_type": "code",
   "execution_count": 12,
   "id": "00bc99ed",
   "metadata": {},
   "outputs": [
    {
     "data": {
      "text/html": [
       "<div>\n",
       "<style scoped>\n",
       "    .dataframe tbody tr th:only-of-type {\n",
       "        vertical-align: middle;\n",
       "    }\n",
       "\n",
       "    .dataframe tbody tr th {\n",
       "        vertical-align: top;\n",
       "    }\n",
       "\n",
       "    .dataframe thead th {\n",
       "        text-align: right;\n",
       "    }\n",
       "</style>\n",
       "<table border=\"1\" class=\"dataframe\">\n",
       "  <thead>\n",
       "    <tr style=\"text-align: right;\">\n",
       "      <th></th>\n",
       "      <th>edge_followed_by</th>\n",
       "      <th>edge_follow</th>\n",
       "      <th>username_length</th>\n",
       "      <th>username_has_number</th>\n",
       "      <th>full_name_has_number</th>\n",
       "      <th>full_name_length</th>\n",
       "      <th>is_private</th>\n",
       "      <th>is_joined_recently</th>\n",
       "      <th>is_business_account</th>\n",
       "      <th>has_external_url</th>\n",
       "      <th>is_fake</th>\n",
       "    </tr>\n",
       "  </thead>\n",
       "  <tbody>\n",
       "    <tr>\n",
       "      <th>edge_followed_by</th>\n",
       "      <td>1.000000</td>\n",
       "      <td>-0.054259</td>\n",
       "      <td>-0.033704</td>\n",
       "      <td>-0.071313</td>\n",
       "      <td>-0.019349</td>\n",
       "      <td>0.116751</td>\n",
       "      <td>-0.024593</td>\n",
       "      <td>-0.044327</td>\n",
       "      <td>0.036585</td>\n",
       "      <td>0.180392</td>\n",
       "      <td>-0.136808</td>\n",
       "    </tr>\n",
       "    <tr>\n",
       "      <th>edge_follow</th>\n",
       "      <td>-0.054259</td>\n",
       "      <td>1.000000</td>\n",
       "      <td>-0.112940</td>\n",
       "      <td>0.160248</td>\n",
       "      <td>0.104735</td>\n",
       "      <td>-0.089677</td>\n",
       "      <td>-0.072626</td>\n",
       "      <td>-0.133170</td>\n",
       "      <td>-0.132422</td>\n",
       "      <td>-0.108482</td>\n",
       "      <td>0.272649</td>\n",
       "    </tr>\n",
       "    <tr>\n",
       "      <th>username_length</th>\n",
       "      <td>-0.033704</td>\n",
       "      <td>-0.112940</td>\n",
       "      <td>1.000000</td>\n",
       "      <td>-0.160610</td>\n",
       "      <td>-0.021410</td>\n",
       "      <td>0.277052</td>\n",
       "      <td>0.117582</td>\n",
       "      <td>-0.099414</td>\n",
       "      <td>0.132683</td>\n",
       "      <td>0.112466</td>\n",
       "      <td>-0.151752</td>\n",
       "    </tr>\n",
       "    <tr>\n",
       "      <th>username_has_number</th>\n",
       "      <td>-0.071313</td>\n",
       "      <td>0.160248</td>\n",
       "      <td>-0.160610</td>\n",
       "      <td>1.000000</td>\n",
       "      <td>0.217852</td>\n",
       "      <td>-0.246511</td>\n",
       "      <td>-0.154072</td>\n",
       "      <td>0.127046</td>\n",
       "      <td>-0.278637</td>\n",
       "      <td>-0.237466</td>\n",
       "      <td>0.370164</td>\n",
       "    </tr>\n",
       "    <tr>\n",
       "      <th>full_name_has_number</th>\n",
       "      <td>-0.019349</td>\n",
       "      <td>0.104735</td>\n",
       "      <td>-0.021410</td>\n",
       "      <td>0.217852</td>\n",
       "      <td>1.000000</td>\n",
       "      <td>0.250275</td>\n",
       "      <td>-0.072366</td>\n",
       "      <td>0.066941</td>\n",
       "      <td>-0.083482</td>\n",
       "      <td>-0.039926</td>\n",
       "      <td>0.128588</td>\n",
       "    </tr>\n",
       "    <tr>\n",
       "      <th>full_name_length</th>\n",
       "      <td>0.116751</td>\n",
       "      <td>-0.089677</td>\n",
       "      <td>0.277052</td>\n",
       "      <td>-0.246511</td>\n",
       "      <td>0.250275</td>\n",
       "      <td>1.000000</td>\n",
       "      <td>0.064409</td>\n",
       "      <td>-0.216572</td>\n",
       "      <td>0.323137</td>\n",
       "      <td>0.309318</td>\n",
       "      <td>-0.350433</td>\n",
       "    </tr>\n",
       "    <tr>\n",
       "      <th>is_private</th>\n",
       "      <td>-0.024593</td>\n",
       "      <td>-0.072626</td>\n",
       "      <td>0.117582</td>\n",
       "      <td>-0.154072</td>\n",
       "      <td>-0.072366</td>\n",
       "      <td>0.064409</td>\n",
       "      <td>1.000000</td>\n",
       "      <td>-0.071448</td>\n",
       "      <td>-0.134444</td>\n",
       "      <td>-0.041399</td>\n",
       "      <td>-0.262292</td>\n",
       "    </tr>\n",
       "    <tr>\n",
       "      <th>is_joined_recently</th>\n",
       "      <td>-0.044327</td>\n",
       "      <td>-0.133170</td>\n",
       "      <td>-0.099414</td>\n",
       "      <td>0.127046</td>\n",
       "      <td>0.066941</td>\n",
       "      <td>-0.216572</td>\n",
       "      <td>-0.071448</td>\n",
       "      <td>1.000000</td>\n",
       "      <td>-0.172122</td>\n",
       "      <td>-0.150433</td>\n",
       "      <td>0.276012</td>\n",
       "    </tr>\n",
       "    <tr>\n",
       "      <th>is_business_account</th>\n",
       "      <td>0.036585</td>\n",
       "      <td>-0.132422</td>\n",
       "      <td>0.132683</td>\n",
       "      <td>-0.278637</td>\n",
       "      <td>-0.083482</td>\n",
       "      <td>0.323137</td>\n",
       "      <td>-0.134444</td>\n",
       "      <td>-0.172122</td>\n",
       "      <td>1.000000</td>\n",
       "      <td>0.289467</td>\n",
       "      <td>-0.318395</td>\n",
       "    </tr>\n",
       "    <tr>\n",
       "      <th>has_external_url</th>\n",
       "      <td>0.180392</td>\n",
       "      <td>-0.108482</td>\n",
       "      <td>0.112466</td>\n",
       "      <td>-0.237466</td>\n",
       "      <td>-0.039926</td>\n",
       "      <td>0.309318</td>\n",
       "      <td>-0.041399</td>\n",
       "      <td>-0.150433</td>\n",
       "      <td>0.289467</td>\n",
       "      <td>1.000000</td>\n",
       "      <td>-0.426830</td>\n",
       "    </tr>\n",
       "    <tr>\n",
       "      <th>is_fake</th>\n",
       "      <td>-0.136808</td>\n",
       "      <td>0.272649</td>\n",
       "      <td>-0.151752</td>\n",
       "      <td>0.370164</td>\n",
       "      <td>0.128588</td>\n",
       "      <td>-0.350433</td>\n",
       "      <td>-0.262292</td>\n",
       "      <td>0.276012</td>\n",
       "      <td>-0.318395</td>\n",
       "      <td>-0.426830</td>\n",
       "      <td>1.000000</td>\n",
       "    </tr>\n",
       "  </tbody>\n",
       "</table>\n",
       "</div>"
      ],
      "text/plain": [
       "                      edge_followed_by  edge_follow  username_length  \\\n",
       "edge_followed_by              1.000000    -0.054259        -0.033704   \n",
       "edge_follow                  -0.054259     1.000000        -0.112940   \n",
       "username_length              -0.033704    -0.112940         1.000000   \n",
       "username_has_number          -0.071313     0.160248        -0.160610   \n",
       "full_name_has_number         -0.019349     0.104735        -0.021410   \n",
       "full_name_length              0.116751    -0.089677         0.277052   \n",
       "is_private                   -0.024593    -0.072626         0.117582   \n",
       "is_joined_recently           -0.044327    -0.133170        -0.099414   \n",
       "is_business_account           0.036585    -0.132422         0.132683   \n",
       "has_external_url              0.180392    -0.108482         0.112466   \n",
       "is_fake                      -0.136808     0.272649        -0.151752   \n",
       "\n",
       "                      username_has_number  full_name_has_number  \\\n",
       "edge_followed_by                -0.071313             -0.019349   \n",
       "edge_follow                      0.160248              0.104735   \n",
       "username_length                 -0.160610             -0.021410   \n",
       "username_has_number              1.000000              0.217852   \n",
       "full_name_has_number             0.217852              1.000000   \n",
       "full_name_length                -0.246511              0.250275   \n",
       "is_private                      -0.154072             -0.072366   \n",
       "is_joined_recently               0.127046              0.066941   \n",
       "is_business_account             -0.278637             -0.083482   \n",
       "has_external_url                -0.237466             -0.039926   \n",
       "is_fake                          0.370164              0.128588   \n",
       "\n",
       "                      full_name_length  is_private  is_joined_recently  \\\n",
       "edge_followed_by              0.116751   -0.024593           -0.044327   \n",
       "edge_follow                  -0.089677   -0.072626           -0.133170   \n",
       "username_length               0.277052    0.117582           -0.099414   \n",
       "username_has_number          -0.246511   -0.154072            0.127046   \n",
       "full_name_has_number          0.250275   -0.072366            0.066941   \n",
       "full_name_length              1.000000    0.064409           -0.216572   \n",
       "is_private                    0.064409    1.000000           -0.071448   \n",
       "is_joined_recently           -0.216572   -0.071448            1.000000   \n",
       "is_business_account           0.323137   -0.134444           -0.172122   \n",
       "has_external_url              0.309318   -0.041399           -0.150433   \n",
       "is_fake                      -0.350433   -0.262292            0.276012   \n",
       "\n",
       "                      is_business_account  has_external_url   is_fake  \n",
       "edge_followed_by                 0.036585          0.180392 -0.136808  \n",
       "edge_follow                     -0.132422         -0.108482  0.272649  \n",
       "username_length                  0.132683          0.112466 -0.151752  \n",
       "username_has_number             -0.278637         -0.237466  0.370164  \n",
       "full_name_has_number            -0.083482         -0.039926  0.128588  \n",
       "full_name_length                 0.323137          0.309318 -0.350433  \n",
       "is_private                      -0.134444         -0.041399 -0.262292  \n",
       "is_joined_recently              -0.172122         -0.150433  0.276012  \n",
       "is_business_account              1.000000          0.289467 -0.318395  \n",
       "has_external_url                 0.289467          1.000000 -0.426830  \n",
       "is_fake                         -0.318395         -0.426830  1.000000  "
      ]
     },
     "execution_count": 12,
     "metadata": {},
     "output_type": "execute_result"
    }
   ],
   "source": [
    "corr=instagramveri.corr()\n",
    "corr"
   ]
  },
  {
   "cell_type": "code",
   "execution_count": 13,
   "id": "33d1336f",
   "metadata": {},
   "outputs": [
    {
     "data": {
      "text/plain": [
       "<AxesSubplot:>"
      ]
     },
     "execution_count": 13,
     "metadata": {},
     "output_type": "execute_result"
    },
    {
     "data": {
      "image/png": "[encoded data removed]",
      "text/plain": [
       "<Figure size 1080x360 with 2 Axes>"
      ]
     },
     "metadata": {
      "needs_background": "light"
     },
     "output_type": "display_data"
    }
   ],
   "source": [
    "plt.figure(figsize=(15,5))\n",
    "sns.heatmap(corr, annot=True)"
   ]
  },
  {
   "cell_type": "code",
   "execution_count": 14,
   "id": "a0902c2d",
   "metadata": {},
   "outputs": [
    {
     "data": {
      "text/plain": [
       "1    692\n",
       "0     93\n",
       "Name: is_fake, dtype: int64"
      ]
     },
     "execution_count": 14,
     "metadata": {},
     "output_type": "execute_result"
    }
   ],
   "source": [
    "instagramveri['is_fake'].value_counts()"
   ]
  },
  {
   "cell_type": "code",
   "execution_count": 15,
   "id": "9e3e8c80",
   "metadata": {},
   "outputs": [
    {
     "data": {
      "image/png": "[encoded data removed]",
      "text/plain": [
       "<Figure size 216x216 with 1 Axes>"
      ]
     },
     "metadata": {},
     "output_type": "display_data"
    }
   ],
   "source": [
    "plt.figure(figsize=(3,3))\n",
    "colors=['blue','green']\n",
    "instagramveri.is_fake.value_counts().plot.pie(autopct='%1.1f%%',colors=colors)\n",
    "plt.show()"
   ]
  },
  {
   "cell_type": "code",
   "execution_count": 16,
   "id": "7b562984",
   "metadata": {},
   "outputs": [
    {
     "data": {
      "image/png": "[encoded data removed]",
      "text/plain": [
       "<Figure size 216x216 with 1 Axes>"
      ]
     },
     "metadata": {
      "needs_background": "light"
     },
     "output_type": "display_data"
    }
   ],
   "source": [
    "plt.figure(figsize=(3,3))\n",
    "sns.countplot(x='is_fake', data=instagramveri)\n",
    "plt.show()"
   ]
  },
  {
   "cell_type": "code",
   "execution_count": 17,
   "id": "3d21ff6e",
   "metadata": {},
   "outputs": [],
   "source": [
    "from sklearn.model_selection import train_test_split"
   ]
  },
  {
   "cell_type": "code",
   "execution_count": 18,
   "id": "88f97c08",
   "metadata": {},
   "outputs": [],
   "source": [
    "x=instagramveri.drop(['is_fake'], axis=1)\n",
    "y=instagramveri['is_fake']"
   ]
  },
  {
   "cell_type": "code",
   "execution_count": 19,
   "id": "a252b3df",
   "metadata": {},
   "outputs": [],
   "source": [
    "x_train, x_test, y_train, y_test = train_test_split (x, y, test_size=0.15)"
   ]
  },
  {
   "cell_type": "markdown",
   "id": "1901f58e",
   "metadata": {},
   "source": [
    "# Classification Models"
   ]
  },
  {
   "cell_type": "code",
   "execution_count": 20,
   "id": "a4c23777",
   "metadata": {},
   "outputs": [],
   "source": [
    "from sklearn.tree import DecisionTreeClassifier"
   ]
  },
  {
   "cell_type": "code",
   "execution_count": 21,
   "id": "16a8406a",
   "metadata": {},
   "outputs": [],
   "source": [
    "from sklearn.metrics import confusion_matrix,accuracy_score,classification_report,roc_auc_score,roc_curve"
   ]
  },
  {
   "cell_type": "code",
   "execution_count": 22,
   "id": "ca9bb83d",
   "metadata": {},
   "outputs": [],
   "source": [
    "classifier=DecisionTreeClassifier()"
   ]
  },
  {
   "cell_type": "code",
   "execution_count": 23,
   "id": "8a4fd00d",
   "metadata": {},
   "outputs": [
    {
     "data": {
      "text/plain": [
       "DecisionTreeClassifier()"
      ]
     },
     "execution_count": 23,
     "metadata": {},
     "output_type": "execute_result"
    }
   ],
   "source": [
    "classifier.fit(x_train, y_train)"
   ]
  },
  {
   "cell_type": "code",
   "execution_count": 24,
   "id": "71c46dc8",
   "metadata": {},
   "outputs": [],
   "source": [
    "y_pred=classifier.predict(x_test)"
   ]
  },
  {
   "cell_type": "code",
   "execution_count": 25,
   "id": "261752d8",
   "metadata": {},
   "outputs": [
    {
     "name": "stdout",
     "output_type": "stream",
     "text": [
      "[[  9   6]\n",
      " [  3 100]]\n"
     ]
    }
   ],
   "source": [
    "cm=confusion_matrix(y_pred, y_test)\n",
    "print(cm)"
   ]
  },
  {
   "cell_type": "code",
   "execution_count": 26,
   "id": "b9c3b45f",
   "metadata": {},
   "outputs": [
    {
     "name": "stdout",
     "output_type": "stream",
     "text": [
      "0.923728813559322\n"
     ]
    }
   ],
   "source": [
    "accuracy=accuracy_score(y_test, y_pred)\n",
    "print(accuracy)"
   ]
  },
  {
   "cell_type": "code",
   "execution_count": 27,
   "id": "a2bb7d7a",
   "metadata": {},
   "outputs": [
    {
     "name": "stdout",
     "output_type": "stream",
     "text": [
      "              precision    recall  f1-score   support\n",
      "\n",
      "           0       0.60      0.75      0.67        12\n",
      "           1       0.97      0.94      0.96       106\n",
      "\n",
      "    accuracy                           0.92       118\n",
      "   macro avg       0.79      0.85      0.81       118\n",
      "weighted avg       0.93      0.92      0.93       118\n",
      "\n"
     ]
    }
   ],
   "source": [
    "print(classification_report(y_test, y_pred))"
   ]
  },
  {
   "cell_type": "code",
   "execution_count": 28,
   "id": "f29a96be",
   "metadata": {},
   "outputs": [],
   "source": [
    "from sklearn.ensemble import RandomForestClassifier"
   ]
  },
  {
   "cell_type": "code",
   "execution_count": 29,
   "id": "a6ee03f1",
   "metadata": {},
   "outputs": [],
   "source": [
    "model=RandomForestClassifier(random_state=0)"
   ]
  },
  {
   "cell_type": "code",
   "execution_count": 30,
   "id": "d083d013",
   "metadata": {},
   "outputs": [
    {
     "data": {
      "text/plain": [
       "RandomForestClassifier(random_state=0)"
      ]
     },
     "execution_count": 30,
     "metadata": {},
     "output_type": "execute_result"
    }
   ],
   "source": [
    "model.fit(x_train, y_train)"
   ]
  },
  {
   "cell_type": "code",
   "execution_count": 31,
   "id": "2d920cc6",
   "metadata": {},
   "outputs": [],
   "source": [
    "y_pred=model.predict(x_test)"
   ]
  },
  {
   "cell_type": "code",
   "execution_count": 32,
   "id": "642c6c39",
   "metadata": {},
   "outputs": [
    {
     "name": "stdout",
     "output_type": "stream",
     "text": [
      "[[ 10   1]\n",
      " [  2 105]]\n"
     ]
    }
   ],
   "source": [
    "cm=confusion_matrix(y_pred, y_test)\n",
    "print(cm)"
   ]
  },
  {
   "cell_type": "code",
   "execution_count": 33,
   "id": "7398ef29",
   "metadata": {},
   "outputs": [
    {
     "name": "stdout",
     "output_type": "stream",
     "text": [
      "0.9745762711864406\n"
     ]
    }
   ],
   "source": [
    "accuracy=accuracy_score(y_test, y_pred)\n",
    "print(accuracy)"
   ]
  },
  {
   "cell_type": "code",
   "execution_count": 34,
   "id": "35beaa8c",
   "metadata": {},
   "outputs": [],
   "source": [
    "filename = 'rf_model.sav'\n",
    "pickle.dump(model, open(filename, 'wb'))"
   ]
  },
  {
   "cell_type": "code",
   "execution_count": 35,
   "id": "84d8639a",
   "metadata": {},
   "outputs": [
    {
     "name": "stdout",
     "output_type": "stream",
     "text": [
      "              precision    recall  f1-score   support\n",
      "\n",
      "           0       0.91      0.83      0.87        12\n",
      "           1       0.98      0.99      0.99       106\n",
      "\n",
      "    accuracy                           0.97       118\n",
      "   macro avg       0.95      0.91      0.93       118\n",
      "weighted avg       0.97      0.97      0.97       118\n",
      "\n"
     ]
    }
   ],
   "source": [
    "print(classification_report(y_test, y_pred))"
   ]
  },
  {
   "cell_type": "code",
   "execution_count": 36,
   "id": "9c7692ba",
   "metadata": {},
   "outputs": [],
   "source": [
    "from sklearn.ensemble import GradientBoostingClassifier"
   ]
  },
  {
   "cell_type": "code",
   "execution_count": 37,
   "id": "4de41985",
   "metadata": {},
   "outputs": [],
   "source": [
    "model=GradientBoostingClassifier(random_state=0)"
   ]
  },
  {
   "cell_type": "code",
   "execution_count": null,
   "id": "9c50e65e",
   "metadata": {},
   "outputs": [],
   "source": []
  },
  {
   "cell_type": "code",
   "execution_count": 38,
   "id": "91988418",
   "metadata": {},
   "outputs": [
    {
     "data": {
      "text/plain": [
       "GradientBoostingClassifier(random_state=0)"
      ]
     },
     "execution_count": 38,
     "metadata": {},
     "output_type": "execute_result"
    }
   ],
   "source": [
    "model.fit(x_train, y_train)"
   ]
  },
  {
   "cell_type": "code",
   "execution_count": 39,
   "id": "342d16ea",
   "metadata": {},
   "outputs": [],
   "source": [
    "y_pred=model.predict(x_test)"
   ]
  },
  {
   "cell_type": "code",
   "execution_count": 40,
   "id": "5cc94e4e",
   "metadata": {},
   "outputs": [
    {
     "name": "stdout",
     "output_type": "stream",
     "text": [
      "[[ 10   1]\n",
      " [  2 105]]\n"
     ]
    }
   ],
   "source": [
    "cm=confusion_matrix(y_pred, y_test)\n",
    "print(cm)"
   ]
  },
  {
   "cell_type": "code",
   "execution_count": 41,
   "id": "df74a524",
   "metadata": {},
   "outputs": [
    {
     "name": "stdout",
     "output_type": "stream",
     "text": [
      "0.9745762711864406\n"
     ]
    }
   ],
   "source": [
    "accuracy=accuracy_score(y_test, y_pred)\n",
    "print(accuracy)"
   ]
  },
  {
   "cell_type": "code",
   "execution_count": 42,
   "id": "1906d110",
   "metadata": {},
   "outputs": [],
   "source": [
    "filename = 'gb_model.sav'\n",
    "pickle.dump(model, open(filename, 'wb'))"
   ]
  },
  {
   "cell_type": "code",
   "execution_count": 43,
   "id": "8c6d63d9",
   "metadata": {},
   "outputs": [
    {
     "name": "stdout",
     "output_type": "stream",
     "text": [
      "              precision    recall  f1-score   support\n",
      "\n",
      "           0       0.91      0.83      0.87        12\n",
      "           1       0.98      0.99      0.99       106\n",
      "\n",
      "    accuracy                           0.97       118\n",
      "   macro avg       0.95      0.91      0.93       118\n",
      "weighted avg       0.97      0.97      0.97       118\n",
      "\n"
     ]
    }
   ],
   "source": [
    "print(classification_report(y_test, y_pred))"
   ]
  },
  {
   "cell_type": "code",
   "execution_count": 44,
   "id": "27d4b20a",
   "metadata": {},
   "outputs": [],
   "source": [
    "from sklearn.naive_bayes import MultinomialNB"
   ]
  },
  {
   "cell_type": "code",
   "execution_count": 45,
   "id": "b81f33fd",
   "metadata": {},
   "outputs": [],
   "source": [
    "model=MultinomialNB()"
   ]
  },
  {
   "cell_type": "code",
   "execution_count": 46,
   "id": "4940188c",
   "metadata": {},
   "outputs": [
    {
     "data": {
      "text/plain": [
       "MultinomialNB()"
      ]
     },
     "execution_count": 46,
     "metadata": {},
     "output_type": "execute_result"
    }
   ],
   "source": [
    "model.fit(x_train, y_train)"
   ]
  },
  {
   "cell_type": "code",
   "execution_count": 47,
   "id": "eb11d261",
   "metadata": {},
   "outputs": [],
   "source": [
    "y_pred=model.predict(x_test)"
   ]
  },
  {
   "cell_type": "code",
   "execution_count": 48,
   "id": "0dc4afa4",
   "metadata": {},
   "outputs": [
    {
     "name": "stdout",
     "output_type": "stream",
     "text": [
      "[[ 7  7]\n",
      " [ 5 99]]\n"
     ]
    }
   ],
   "source": [
    "cm=confusion_matrix(y_pred, y_test)\n",
    "print(cm)"
   ]
  },
  {
   "cell_type": "code",
   "execution_count": 49,
   "id": "fcbf1e4c",
   "metadata": {},
   "outputs": [
    {
     "name": "stdout",
     "output_type": "stream",
     "text": [
      "              precision    recall  f1-score   support\n",
      "\n",
      "           0       0.50      0.58      0.54        12\n",
      "           1       0.95      0.93      0.94       106\n",
      "\n",
      "    accuracy                           0.90       118\n",
      "   macro avg       0.73      0.76      0.74       118\n",
      "weighted avg       0.91      0.90      0.90       118\n",
      "\n"
     ]
    }
   ],
   "source": [
    "print(classification_report(y_test, y_pred))"
   ]
  },
  {
   "cell_type": "code",
   "execution_count": 50,
   "id": "aa9bf870",
   "metadata": {},
   "outputs": [],
   "source": [
    "import pickle"
   ]
  },
  {
   "cell_type": "code",
   "execution_count": null,
   "id": "82d65100",
   "metadata": {},
   "outputs": [],
   "source": []
  }
 ],
 "metadata": {
  "kernelspec": {
   "display_name": "Python 3 (ipykernel)",
   "language": "python",
   "name": "python3"
  },
  "language_info": {
   "codemirror_mode": {
    "name": "ipython",
    "version": 3
   },
   "file_extension": ".py",
   "mimetype": "text/x-python",
   "name": "python",
   "nbconvert_exporter": "python",
   "pygments_lexer": "ipython3",
   "version": "3.9.7"
  }
 },
 "nbformat": 4,
 "nbformat_minor": 5
}
